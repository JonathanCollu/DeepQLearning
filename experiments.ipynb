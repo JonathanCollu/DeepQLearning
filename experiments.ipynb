{
 "cells": [
  {
   "cell_type": "code",
   "execution_count": 4,
   "metadata": {},
   "outputs": [
    {
     "name": "stderr",
     "output_type": "stream",
     "text": [
      "C:\\Users\\Dimitris\\anaconda3\\envs\\tfenv\\lib\\site-packages\\ipykernel\\ipkernel.py:287: DeprecationWarning: `should_run_async` will not call `transform_cell` automatically in the future. Please pass the result to `transformed_cell` argument and any exception that happen during thetransform in `preprocessing_exc_tuple` in IPython 7.17 and above.\n",
      "  and should_run_async(code)\n"
     ]
    }
   ],
   "source": [
    "import gym\n",
    "import numpy as np\n",
    "\n",
    "env = gym.make('CartPole-v1')\n",
    "env.reset()\n",
    "for _ in range(100000):\n",
    "    x = env.render(mode='rgb_array')\n",
    "    obs, rew, done, info = env.step(env.action_space.sample()) # take a random action\n",
    "    if done:\n",
    "        break\n",
    "env.close()"
   ]
  },
  {
   "cell_type": "code",
   "execution_count": 3,
   "metadata": {},
   "outputs": [
    {
     "name": "stdout",
     "output_type": "stream",
     "text": [
      "observations: [-0.13214816 -0.82320035  0.24029915  1.48933   ]\n",
      "rewards: 1.0\n",
      "done: True\n",
      "info: {}\n"
     ]
    }
   ],
   "source": [
    "print(f'observations: {obs}')\n",
    "print(f'rewards: {rew}')\n",
    "print(f'done: {done}')\n",
    "print(f'info: {info}')\n"
   ]
  },
  {
   "cell_type": "markdown",
   "metadata": {},
   "source": [
    "<h2>\n",
    "DQN: Attempt 1\n",
    "</h2>"
   ]
  },
  {
   "cell_type": "code",
   "execution_count": 4,
   "metadata": {},
   "outputs": [
    {
     "name": "stderr",
     "output_type": "stream",
     "text": [
      "C:\\Users\\Dimitris\\anaconda3\\envs\\tfenv\\lib\\site-packages\\ipykernel\\ipkernel.py:287: DeprecationWarning: `should_run_async` will not call `transform_cell` automatically in the future. Please pass the result to `transformed_cell` argument and any exception that happen during thetransform in `preprocessing_exc_tuple` in IPython 7.17 and above.\n",
      "  and should_run_async(code)\n"
     ]
    }
   ],
   "source": [
    "N = 10  # Dimension of the replay buffer\n",
    "Q = np.random.uniform(0,1,2)  # Q-table initialization\n",
    "\n",
    "replay_buffer = N"
   ]
  },
  {
   "cell_type": "code",
   "execution_count": null,
   "metadata": {},
   "outputs": [],
   "source": [
    "class DQL:\n",
    "    \"\"\" Parameters:\n",
    "            - replay_buffer : enables DQN with experience replay buffer\n",
    "            - er_size : experience replay buffer size\n",
    "            - episode_size : size of the episode to consider\n",
    "            - timesteps_size : numer of timesteps per episode to consider\n",
    "            - model : Deep Learning agent (model in pytorch)\n",
    "            - env : Environment to train our model \n",
    "    \"\"\"\n",
    "    def __init__(self,  replay_buffer=True,\n",
    "                        er_size = None,\n",
    "                        episode_size = None,\n",
    "                        timesteps_size = None,\n",
    "                        model = None,\n",
    "                        env = None,\n",
    "                ):\n",
    "        self.experiece_replay = replay_buffer\n",
    "        self.er_size = er_size\n",
    "        self.episode_size = episode_size\n",
    "        self.timestep_size = timesteps_size\n",
    "        self.model = model\n",
    "        self.env = env\n",
    "        \n",
    "\n",
    "    def __call__(self):\n",
    "\n",
    "        env = gym.make(self.env)\n",
    "        env.reset()\n",
    "        episode_sequence = []\n",
    "\n",
    "        # Iterate over episodes\n",
    "        for i in range(self.episode_size):\n",
    "\n",
    "            # Initialize sequence s1 = {x1}\n",
    "            episode_sequence.append()\n",
    "\n",
    "            #\n",
    "    "
   ]
  }
 ],
 "metadata": {
  "interpreter": {
   "hash": "63a00b1af9114ee86ee68ac63ddc18c623a186204bdc2fa9ce37ad25ea9dbf90"
  },
  "kernelspec": {
   "display_name": "Python 3.8.8 ('tfenv')",
   "language": "python",
   "name": "python3"
  },
  "language_info": {
   "codemirror_mode": {
    "name": "ipython",
    "version": 3
   },
   "file_extension": ".py",
   "mimetype": "text/x-python",
   "name": "python",
   "nbconvert_exporter": "python",
   "pygments_lexer": "ipython3",
   "version": "3.8.8"
  },
  "orig_nbformat": 4
 },
 "nbformat": 4,
 "nbformat_minor": 2
}
